{
  "nbformat": 4,
  "nbformat_minor": 0,
  "metadata": {
    "colab": {
      "provenance": []
    },
    "kernelspec": {
      "name": "python3",
      "display_name": "Python 3"
    },
    "language_info": {
      "name": "python"
    }
  },
  "cells": [
    {
      "cell_type": "code",
      "execution_count": 1,
      "metadata": {
        "id": "72E0lnWbfN6N"
      },
      "outputs": [],
      "source": [
        "import torch\n",
        "import torch.nn as nn\n",
        "import torch.optim as optim\n",
        "from torch.utils.data import Dataset, DataLoader\n",
        "from sklearn.model_selection import train_test_split\n",
        "import numpy as np\n",
        "from tqdm import tqdm"
      ]
    },
    {
      "cell_type": "code",
      "source": [
        "def load_data(file_path):\n",
        "    sequences = []\n",
        "    labels = []\n",
        "    with open(file_path, 'r') as f:\n",
        "        next(f)  # Skip the header\n",
        "        for line in f:\n",
        "            parts = line.strip().split('\\t')\n",
        "            if len(parts) == 2:\n",
        "                sequences.append(parts[0])\n",
        "                labels.append(int(parts[1]))\n",
        "    return sequences, labels"
      ],
      "metadata": {
        "id": "EAdBdjqkfWGW"
      },
      "execution_count": 2,
      "outputs": []
    },
    {
      "cell_type": "code",
      "source": [
        "def build_kmer_mapping(sequences, k):\n",
        "    kmer_set = set()\n",
        "    for sequence in sequences:\n",
        "        for i in range(len(sequence) - k + 1):\n",
        "            kmer = sequence[i:i + k]\n",
        "            kmer_set.add(kmer)\n",
        "    kmer_to_index = {kmer: idx for idx, kmer in enumerate(sorted(kmer_set))}\n",
        "    return kmer_to_index"
      ],
      "metadata": {
        "id": "0v5Ax72IfXyU"
      },
      "execution_count": 3,
      "outputs": []
    },
    {
      "cell_type": "code",
      "source": [
        "def encode_sequence_with_kmers(sequence, k, max_length, kmer_to_index):\n",
        "    encoded = []\n",
        "    for i in range(len(sequence) - k + 1):\n",
        "        kmer = sequence[i:i + k]\n",
        "        if kmer in kmer_to_index:\n",
        "            encoded.append(kmer_to_index[kmer])\n",
        "        else:\n",
        "            encoded.append(0)  # Unknown k-mers assigned index 0\n",
        "    if len(encoded) < max_length:\n",
        "        encoded.extend([0] * (max_length - len(encoded)))\n",
        "    else:\n",
        "        encoded = encoded[:max_length]\n",
        "    return encoded"
      ],
      "metadata": {
        "id": "hFzADHzkfYq0"
      },
      "execution_count": 4,
      "outputs": []
    },
    {
      "cell_type": "code",
      "source": [
        "class DNADataset(Dataset):\n",
        "    def __init__(self, sequences, labels, max_length, kmer_to_index, k):\n",
        "        self.sequences = [encode_sequence_with_kmers(seq, k, max_length, kmer_to_index) for seq in sequences]\n",
        "        self.labels = labels\n",
        "\n",
        "    def __len__(self):\n",
        "        return len(self.sequences)\n",
        "\n",
        "    def __getitem__(self, idx):\n",
        "        return torch.tensor(self.sequences[idx], dtype=torch.long), torch.tensor(self.labels[idx], dtype=torch.long)"
      ],
      "metadata": {
        "id": "I4P4_ah1fZzG"
      },
      "execution_count": 23,
      "outputs": []
    },
    {
      "cell_type": "code",
      "source": [
        "class KmerDNAClassifier(nn.Module):\n",
        "    def __init__(self, vocab_size, embedding_dim, num_classes, max_length):\n",
        "        super(KmerDNAClassifier, self).__init__()\n",
        "        self.embedding = nn.Embedding(vocab_size, embedding_dim)  # K-mer embeddings\n",
        "        self.conv1 = nn.Conv1d(in_channels=embedding_dim, out_channels=32, kernel_size=5, padding=2)\n",
        "        self.conv2 = nn.Conv1d(in_channels=32, out_channels=64, kernel_size=5, padding=2)\n",
        "        self.conv3 = nn.Conv1d(in_channels=64, out_channels=128, kernel_size=5, padding=2)\n",
        "        self.relu = nn.ReLU()\n",
        "        self.pool = nn.MaxPool1d(kernel_size=2)\n",
        "        self.dropout = nn.Dropout(0.5)\n",
        "\n",
        "        # Calculate the output size after convolutions and pooling\n",
        "        conv_output_length = max_length // 2  # First pooling\n",
        "        conv_output_length = conv_output_length // 2  # Second pooling\n",
        "        conv_output_length = conv_output_length // 2  # Third pooling\n",
        "        self.flattened_size = conv_output_length * 128  # Channels from the last Conv1D layer\n",
        "\n",
        "        # Fully connected layers\n",
        "        self.fc1 = nn.Linear(self.flattened_size, 256)\n",
        "        self.fc2 = nn.Linear(256, num_classes)\n",
        "\n",
        "    def forward(self, x):\n",
        "        x = self.embedding(x)  # [batch_size, max_length, embedding_dim]\n",
        "        x = x.permute(0, 2, 1)  # [batch_size, embedding_dim, max_length]\n",
        "        x = self.pool(self.relu(self.conv1(x)))\n",
        "        x = self.pool(self.relu(self.conv2(x)))\n",
        "        x = self.pool(self.relu(self.conv3(x)))\n",
        "        x = x.view(x.size(0), -1)  # Flatten\n",
        "        x = self.dropout(x)\n",
        "        x = self.relu(self.fc1(x))\n",
        "        x = self.fc2(x)\n",
        "        return x"
      ],
      "metadata": {
        "id": "w8Eq_rRtfbh3"
      },
      "execution_count": 24,
      "outputs": []
    },
    {
      "cell_type": "code",
      "source": [
        "def train_model(model, train_loader, val_loader, num_epochs, optimizer, scheduler, criterion, device):\n",
        "    model.to(device)\n",
        "    best_accuracy = -float('inf')\n",
        "\n",
        "    for epoch in range(num_epochs):\n",
        "        # Training phase\n",
        "        model.train()\n",
        "        running_loss = 0.0\n",
        "        for sequences, labels in tqdm(train_loader):\n",
        "            sequences, labels = sequences.to(device), labels.to(device)\n",
        "            optimizer.zero_grad()\n",
        "            outputs = model(sequences)\n",
        "            loss = criterion(outputs, labels)\n",
        "            loss.backward()\n",
        "            optimizer.step()\n",
        "            running_loss += loss.item()\n",
        "\n",
        "        # Validation phase\n",
        "        model.eval()\n",
        "        val_loss = 0.0\n",
        "        correct = 0\n",
        "        total = 0\n",
        "        with torch.no_grad():\n",
        "            for sequences, labels in tqdm(val_loader):\n",
        "                sequences, labels = sequences.to(device), labels.to(device)\n",
        "                outputs = model(sequences)\n",
        "                loss = criterion(outputs, labels)\n",
        "                val_loss += loss.item()\n",
        "                _, predicted = torch.max(outputs, 1)\n",
        "                total += labels.size(0)\n",
        "                correct += (predicted == labels).sum().item()\n",
        "\n",
        "        val_loss /= len(val_loader)\n",
        "        accuracy = 100 * correct / total\n",
        "        print(f\"Epoch {epoch + 1}/{num_epochs}, Train Loss: {running_loss:.4f}, Val Loss: {val_loss:.4f}, Val Accuracy: {accuracy:.2f}%\")\n",
        "\n",
        "        # Save the best model\n",
        "        if accuracy > best_accuracy:\n",
        "            best_accuracy = accuracy\n",
        "            torch.save(model.state_dict(), \"best_dna_classifier.pth\")\n",
        "\n",
        "        scheduler.step()"
      ],
      "metadata": {
        "id": "jdZQZcSMfdIw"
      },
      "execution_count": 25,
      "outputs": []
    },
    {
      "cell_type": "code",
      "source": [
        "file_path = \"human.txt\"\n",
        "sequences, labels = load_data(file_path)"
      ],
      "metadata": {
        "id": "c9G7x4BTfkY8"
      },
      "execution_count": 26,
      "outputs": []
    },
    {
      "cell_type": "code",
      "source": [
        "k = 3  # Length of k-mers\n",
        "max_length = 512  # Maximum sequence length (adjust based on your data)\n",
        "embedding_dim = 50  # Size of the embedding vectors for k-mers\n",
        "num_epochs = 20\n",
        "batch_size = 32\n",
        "learning_rate = 0.001"
      ],
      "metadata": {
        "id": "Ap-sz2XIfl5k"
      },
      "execution_count": 27,
      "outputs": []
    },
    {
      "cell_type": "code",
      "source": [
        "kmer_to_index = build_kmer_mapping(sequences, k)\n",
        "vocab_size = len(kmer_to_index)"
      ],
      "metadata": {
        "id": "AziZWBLvfnPG"
      },
      "execution_count": 28,
      "outputs": []
    },
    {
      "cell_type": "code",
      "source": [
        "train_sequences, val_sequences, train_labels, val_labels = train_test_split(sequences, labels, test_size=0.2, random_state=42)"
      ],
      "metadata": {
        "id": "6GIjgNL8foPH"
      },
      "execution_count": 29,
      "outputs": []
    },
    {
      "cell_type": "code",
      "source": [
        "train_dataset = DNADataset(train_sequences, train_labels, max_length, kmer_to_index, k)\n",
        "val_dataset = DNADataset(val_sequences, val_labels, max_length, kmer_to_index, k)\n",
        "train_loader = DataLoader(train_dataset, batch_size=batch_size, shuffle=True)\n",
        "val_loader = DataLoader(val_dataset, batch_size=batch_size, shuffle=False)"
      ],
      "metadata": {
        "id": "WJQhQBWcfpcn"
      },
      "execution_count": 30,
      "outputs": []
    },
    {
      "cell_type": "code",
      "source": [
        "num_classes = len(set(labels))\n",
        "device = torch.device(\"cuda\" if torch.cuda.is_available() else \"cpu\")\n",
        "model = KmerDNAClassifier(vocab_size=vocab_size, embedding_dim=embedding_dim, num_classes=num_classes, max_length=max_length)"
      ],
      "metadata": {
        "id": "y6ZT7pWSfsAM"
      },
      "execution_count": 31,
      "outputs": []
    },
    {
      "cell_type": "code",
      "source": [
        "optimizer = optim.AdamW(model.parameters(), lr=learning_rate)\n",
        "scheduler = optim.lr_scheduler.StepLR(optimizer, step_size=10, gamma=0.1)\n",
        "criterion = nn.CrossEntropyLoss()"
      ],
      "metadata": {
        "id": "X0F1oYH_ftQR"
      },
      "execution_count": 32,
      "outputs": []
    },
    {
      "cell_type": "code",
      "source": [
        "train_model(model, train_loader, val_loader, num_epochs, optimizer, scheduler, criterion, device)"
      ],
      "metadata": {
        "colab": {
          "base_uri": "https://localhost:8080/"
        },
        "id": "Jji6JG7Ff35Y",
        "outputId": "fe263746-0755-49e0-f1b9-3c921443e60c"
      },
      "execution_count": 33,
      "outputs": [
        {
          "output_type": "stream",
          "name": "stderr",
          "text": [
            "100%|██████████| 110/110 [00:14<00:00,  7.41it/s]\n",
            "100%|██████████| 28/28 [00:00<00:00, 38.13it/s]\n"
          ]
        },
        {
          "output_type": "stream",
          "name": "stdout",
          "text": [
            "Epoch 1/20, Train Loss: 185.8739, Val Loss: 1.5793, Val Accuracy: 43.15%\n"
          ]
        },
        {
          "output_type": "stream",
          "name": "stderr",
          "text": [
            "100%|██████████| 110/110 [00:14<00:00,  7.47it/s]\n",
            "100%|██████████| 28/28 [00:00<00:00, 37.38it/s]\n"
          ]
        },
        {
          "output_type": "stream",
          "name": "stdout",
          "text": [
            "Epoch 2/20, Train Loss: 123.6131, Val Loss: 1.0678, Val Accuracy: 64.61%\n"
          ]
        },
        {
          "output_type": "stream",
          "name": "stderr",
          "text": [
            "100%|██████████| 110/110 [00:14<00:00,  7.42it/s]\n",
            "100%|██████████| 28/28 [00:00<00:00, 37.62it/s]\n"
          ]
        },
        {
          "output_type": "stream",
          "name": "stdout",
          "text": [
            "Epoch 3/20, Train Loss: 76.4802, Val Loss: 0.7888, Val Accuracy: 75.68%\n"
          ]
        },
        {
          "output_type": "stream",
          "name": "stderr",
          "text": [
            "100%|██████████| 110/110 [00:14<00:00,  7.40it/s]\n",
            "100%|██████████| 28/28 [00:01<00:00, 26.99it/s]\n"
          ]
        },
        {
          "output_type": "stream",
          "name": "stdout",
          "text": [
            "Epoch 4/20, Train Loss: 48.2660, Val Loss: 1.1104, Val Accuracy: 70.21%\n"
          ]
        },
        {
          "output_type": "stream",
          "name": "stderr",
          "text": [
            "100%|██████████| 110/110 [00:15<00:00,  7.10it/s]\n",
            "100%|██████████| 28/28 [00:01<00:00, 24.76it/s]\n"
          ]
        },
        {
          "output_type": "stream",
          "name": "stdout",
          "text": [
            "Epoch 5/20, Train Loss: 31.6654, Val Loss: 0.9458, Val Accuracy: 76.48%\n"
          ]
        },
        {
          "output_type": "stream",
          "name": "stderr",
          "text": [
            "100%|██████████| 110/110 [00:14<00:00,  7.36it/s]\n",
            "100%|██████████| 28/28 [00:00<00:00, 36.73it/s]\n"
          ]
        },
        {
          "output_type": "stream",
          "name": "stdout",
          "text": [
            "Epoch 6/20, Train Loss: 20.2209, Val Loss: 0.8070, Val Accuracy: 80.37%\n"
          ]
        },
        {
          "output_type": "stream",
          "name": "stderr",
          "text": [
            "100%|██████████| 110/110 [00:16<00:00,  6.52it/s]\n",
            "100%|██████████| 28/28 [00:00<00:00, 38.36it/s]\n"
          ]
        },
        {
          "output_type": "stream",
          "name": "stdout",
          "text": [
            "Epoch 7/20, Train Loss: 16.6171, Val Loss: 0.7907, Val Accuracy: 80.71%\n"
          ]
        },
        {
          "output_type": "stream",
          "name": "stderr",
          "text": [
            "100%|██████████| 110/110 [00:16<00:00,  6.50it/s]\n",
            "100%|██████████| 28/28 [00:00<00:00, 29.14it/s]\n"
          ]
        },
        {
          "output_type": "stream",
          "name": "stdout",
          "text": [
            "Epoch 8/20, Train Loss: 14.1101, Val Loss: 0.9732, Val Accuracy: 80.02%\n"
          ]
        },
        {
          "output_type": "stream",
          "name": "stderr",
          "text": [
            "100%|██████████| 110/110 [00:17<00:00,  6.43it/s]\n",
            "100%|██████████| 28/28 [00:00<00:00, 37.85it/s]\n"
          ]
        },
        {
          "output_type": "stream",
          "name": "stdout",
          "text": [
            "Epoch 9/20, Train Loss: 12.6630, Val Loss: 0.9663, Val Accuracy: 79.79%\n"
          ]
        },
        {
          "output_type": "stream",
          "name": "stderr",
          "text": [
            "100%|██████████| 110/110 [00:16<00:00,  6.69it/s]\n",
            "100%|██████████| 28/28 [00:00<00:00, 38.36it/s]\n"
          ]
        },
        {
          "output_type": "stream",
          "name": "stdout",
          "text": [
            "Epoch 10/20, Train Loss: 14.6655, Val Loss: 0.9091, Val Accuracy: 78.42%\n"
          ]
        },
        {
          "output_type": "stream",
          "name": "stderr",
          "text": [
            "100%|██████████| 110/110 [00:16<00:00,  6.67it/s]\n",
            "100%|██████████| 28/28 [00:00<00:00, 39.10it/s]\n"
          ]
        },
        {
          "output_type": "stream",
          "name": "stdout",
          "text": [
            "Epoch 11/20, Train Loss: 7.0403, Val Loss: 0.8124, Val Accuracy: 80.94%\n"
          ]
        },
        {
          "output_type": "stream",
          "name": "stderr",
          "text": [
            "100%|██████████| 110/110 [00:17<00:00,  6.38it/s]\n",
            "100%|██████████| 28/28 [00:01<00:00, 26.06it/s]\n"
          ]
        },
        {
          "output_type": "stream",
          "name": "stdout",
          "text": [
            "Epoch 12/20, Train Loss: 4.4612, Val Loss: 0.8245, Val Accuracy: 81.28%\n"
          ]
        },
        {
          "output_type": "stream",
          "name": "stderr",
          "text": [
            "100%|██████████| 110/110 [00:16<00:00,  6.73it/s]\n",
            "100%|██████████| 28/28 [00:00<00:00, 37.17it/s]\n"
          ]
        },
        {
          "output_type": "stream",
          "name": "stdout",
          "text": [
            "Epoch 13/20, Train Loss: 3.6704, Val Loss: 0.8604, Val Accuracy: 81.51%\n"
          ]
        },
        {
          "output_type": "stream",
          "name": "stderr",
          "text": [
            "100%|██████████| 110/110 [00:16<00:00,  6.69it/s]\n",
            "100%|██████████| 28/28 [00:00<00:00, 38.86it/s]\n"
          ]
        },
        {
          "output_type": "stream",
          "name": "stdout",
          "text": [
            "Epoch 14/20, Train Loss: 2.7291, Val Loss: 0.8759, Val Accuracy: 81.39%\n"
          ]
        },
        {
          "output_type": "stream",
          "name": "stderr",
          "text": [
            "100%|██████████| 110/110 [00:16<00:00,  6.65it/s]\n",
            "100%|██████████| 28/28 [00:01<00:00, 25.68it/s]\n"
          ]
        },
        {
          "output_type": "stream",
          "name": "stdout",
          "text": [
            "Epoch 15/20, Train Loss: 2.8008, Val Loss: 0.8652, Val Accuracy: 80.71%\n"
          ]
        },
        {
          "output_type": "stream",
          "name": "stderr",
          "text": [
            "100%|██████████| 110/110 [00:17<00:00,  6.40it/s]\n",
            "100%|██████████| 28/28 [00:00<00:00, 37.03it/s]\n"
          ]
        },
        {
          "output_type": "stream",
          "name": "stdout",
          "text": [
            "Epoch 16/20, Train Loss: 2.9385, Val Loss: 0.9028, Val Accuracy: 80.59%\n"
          ]
        },
        {
          "output_type": "stream",
          "name": "stderr",
          "text": [
            "100%|██████████| 110/110 [00:16<00:00,  6.56it/s]\n",
            "100%|██████████| 28/28 [00:00<00:00, 37.13it/s]\n"
          ]
        },
        {
          "output_type": "stream",
          "name": "stdout",
          "text": [
            "Epoch 17/20, Train Loss: 2.3681, Val Loss: 0.9115, Val Accuracy: 82.08%\n"
          ]
        },
        {
          "output_type": "stream",
          "name": "stderr",
          "text": [
            "100%|██████████| 110/110 [00:16<00:00,  6.70it/s]\n",
            "100%|██████████| 28/28 [00:00<00:00, 36.52it/s]\n"
          ]
        },
        {
          "output_type": "stream",
          "name": "stdout",
          "text": [
            "Epoch 18/20, Train Loss: 2.1485, Val Loss: 0.9260, Val Accuracy: 81.39%\n"
          ]
        },
        {
          "output_type": "stream",
          "name": "stderr",
          "text": [
            "100%|██████████| 110/110 [00:17<00:00,  6.26it/s]\n",
            "100%|██████████| 28/28 [00:00<00:00, 37.03it/s]\n"
          ]
        },
        {
          "output_type": "stream",
          "name": "stdout",
          "text": [
            "Epoch 19/20, Train Loss: 1.7695, Val Loss: 0.9393, Val Accuracy: 81.62%\n"
          ]
        },
        {
          "output_type": "stream",
          "name": "stderr",
          "text": [
            "100%|██████████| 110/110 [00:16<00:00,  6.75it/s]\n",
            "100%|██████████| 28/28 [00:00<00:00, 37.93it/s]"
          ]
        },
        {
          "output_type": "stream",
          "name": "stdout",
          "text": [
            "Epoch 20/20, Train Loss: 2.1349, Val Loss: 0.9402, Val Accuracy: 80.94%\n"
          ]
        },
        {
          "output_type": "stream",
          "name": "stderr",
          "text": [
            "\n"
          ]
        }
      ]
    },
    {
      "cell_type": "code",
      "source": [
        "print(\"Training complete. Best model saved as 'best_dna_classifier.pth'.\")"
      ],
      "metadata": {
        "colab": {
          "base_uri": "https://localhost:8080/"
        },
        "id": "YVD9FoPtfvkr",
        "outputId": "4ab44468-7356-49d9-bcb6-83800f3a0dfe"
      },
      "execution_count": 34,
      "outputs": [
        {
          "output_type": "stream",
          "name": "stdout",
          "text": [
            "Training complete. Best model saved as 'best_dna_classifier.pth'.\n"
          ]
        }
      ]
    },
    {
      "cell_type": "code",
      "source": [
        "model.load_state_dict(torch.load(\"best_dna_classifier.pth\"))"
      ],
      "metadata": {
        "colab": {
          "base_uri": "https://localhost:8080/"
        },
        "id": "Pp6zSu7giFeh",
        "outputId": "76c59d14-0f5a-4468-bcbe-f32c3cbdbb96"
      },
      "execution_count": 35,
      "outputs": [
        {
          "output_type": "stream",
          "name": "stderr",
          "text": [
            "<ipython-input-35-43f1131f57df>:1: FutureWarning: You are using `torch.load` with `weights_only=False` (the current default value), which uses the default pickle module implicitly. It is possible to construct malicious pickle data which will execute arbitrary code during unpickling (See https://github.com/pytorch/pytorch/blob/main/SECURITY.md#untrusted-models for more details). In a future release, the default value for `weights_only` will be flipped to `True`. This limits the functions that could be executed during unpickling. Arbitrary objects will no longer be allowed to be loaded via this mode unless they are explicitly allowlisted by the user via `torch.serialization.add_safe_globals`. We recommend you start setting `weights_only=True` for any use case where you don't have full control of the loaded file. Please open an issue on GitHub for any issues related to this experimental feature.\n",
            "  model.load_state_dict(torch.load(\"best_dna_classifier.pth\"))\n"
          ]
        },
        {
          "output_type": "execute_result",
          "data": {
            "text/plain": [
              "<All keys matched successfully>"
            ]
          },
          "metadata": {},
          "execution_count": 35
        }
      ]
    },
    {
      "cell_type": "code",
      "source": [
        "model.eval()\n",
        "val_loss = 0.0\n",
        "correct = 0\n",
        "total = 0\n",
        "all_out = []\n",
        "with torch.no_grad():\n",
        "    for sequences, labels in tqdm(val_loader):\n",
        "        sequences, labels = sequences.to(device), labels.to(device)\n",
        "        outputs = model(sequences)\n",
        "        loss = criterion(outputs, labels)\n",
        "        val_loss += loss.item()\n",
        "        _, predicted = torch.max(outputs, 1)\n",
        "        total += labels.size(0)\n",
        "        correct += (predicted == labels).sum().item()\n",
        "        all_out += torch.flatten(predicted).tolist()\n",
        "\n",
        "val_loss /= len(val_loader)\n",
        "accuracy = 100 * correct / total\n",
        "print(f\"Accuracy: {accuracy:.2f}%\")"
      ],
      "metadata": {
        "colab": {
          "base_uri": "https://localhost:8080/"
        },
        "id": "IwjmRuEPiVJw",
        "outputId": "4d6f4e1a-1cb0-4313-9883-b25576a1c4c4"
      },
      "execution_count": 54,
      "outputs": [
        {
          "output_type": "stream",
          "name": "stderr",
          "text": [
            "100%|██████████| 28/28 [00:00<00:00, 33.15it/s]"
          ]
        },
        {
          "output_type": "stream",
          "name": "stdout",
          "text": [
            "Accuracy: 82.08%\n"
          ]
        },
        {
          "output_type": "stream",
          "name": "stderr",
          "text": [
            "\n"
          ]
        }
      ]
    },
    {
      "cell_type": "code",
      "source": [
        "# Анализ показателей эффективности модели\n",
        "from sklearn.metrics import accuracy_score , f1_score , precision_score , recall_score, confusion_matrix, ConfusionMatrixDisplay\n",
        "\n",
        "def get_metrics(y_test , y_predicted):\n",
        "    accuracy = accuracy_score(y_test , y_predicted)\n",
        "    precision = precision_score(y_test , y_predicted , average = \"weighted\")\n",
        "    recall = recall_score(y_test , y_predicted , average = \"weighted\")\n",
        "    f1 = f1_score(y_test , y_predicted , average = \"weighted\")\n",
        "    return accuracy , precision , recall , f1"
      ],
      "metadata": {
        "id": "rDRIJO_p2FoU"
      },
      "execution_count": 37,
      "outputs": []
    },
    {
      "cell_type": "code",
      "source": [
        "print(len(val_labels))\n",
        "print(len(all_out))\n",
        "print(val_labels)\n",
        "print(all_out)"
      ],
      "metadata": {
        "colab": {
          "base_uri": "https://localhost:8080/"
        },
        "id": "YK9tW2D23put",
        "outputId": "89041da6-95ed-4390-ac56-4e6823aca53e"
      },
      "execution_count": 56,
      "outputs": [
        {
          "output_type": "stream",
          "name": "stdout",
          "text": [
            "876\n",
            "876\n",
            "[2, 0, 4, 6, 3, 6, 4, 2, 6, 6, 0, 6, 0, 6, 6, 6, 6, 1, 4, 1, 6, 3, 4, 4, 4, 6, 0, 6, 6, 6, 2, 6, 3, 6, 3, 0, 0, 6, 3, 4, 3, 0, 0, 5, 3, 0, 6, 6, 1, 2, 1, 3, 0, 5, 0, 5, 2, 6, 4, 1, 5, 1, 4, 4, 4, 4, 4, 3, 4, 2, 2, 3, 4, 5, 0, 3, 6, 1, 6, 1, 4, 1, 6, 3, 1, 6, 6, 4, 1, 2, 4, 3, 4, 3, 1, 1, 6, 6, 1, 1, 5, 1, 6, 3, 6, 4, 4, 1, 2, 0, 6, 3, 5, 4, 6, 6, 5, 6, 6, 6, 3, 0, 0, 4, 4, 1, 2, 0, 4, 6, 5, 2, 5, 6, 1, 2, 4, 4, 6, 1, 3, 2, 3, 5, 6, 6, 1, 5, 6, 4, 3, 6, 6, 6, 6, 2, 3, 6, 0, 6, 6, 3, 1, 0, 5, 2, 4, 2, 1, 4, 5, 4, 6, 6, 6, 6, 6, 3, 4, 4, 2, 2, 1, 1, 2, 6, 6, 6, 6, 0, 4, 0, 4, 2, 1, 2, 3, 0, 6, 4, 6, 1, 2, 1, 4, 4, 3, 5, 6, 4, 6, 0, 4, 1, 0, 1, 3, 3, 5, 6, 6, 0, 0, 6, 3, 0, 0, 6, 5, 2, 0, 1, 5, 3, 1, 1, 6, 6, 1, 3, 2, 4, 3, 6, 6, 3, 4, 6, 4, 4, 0, 3, 4, 3, 6, 1, 4, 6, 6, 6, 6, 0, 0, 6, 6, 6, 6, 4, 4, 3, 3, 1, 4, 6, 4, 6, 4, 2, 3, 2, 6, 3, 3, 6, 2, 6, 6, 1, 1, 5, 0, 5, 3, 1, 3, 6, 2, 2, 4, 1, 6, 6, 4, 4, 4, 4, 3, 6, 4, 4, 3, 3, 6, 3, 2, 6, 4, 2, 6, 0, 4, 3, 6, 3, 5, 6, 6, 6, 6, 1, 1, 1, 6, 1, 3, 5, 3, 4, 1, 6, 0, 1, 4, 5, 5, 5, 3, 0, 6, 4, 0, 4, 0, 6, 3, 4, 4, 1, 0, 3, 6, 5, 4, 3, 4, 3, 3, 4, 6, 2, 4, 6, 4, 5, 6, 0, 6, 1, 2, 1, 6, 4, 6, 1, 4, 6, 4, 0, 4, 6, 6, 6, 6, 0, 6, 3, 3, 3, 4, 6, 2, 6, 6, 6, 1, 0, 6, 3, 0, 4, 6, 6, 4, 6, 6, 6, 1, 6, 6, 1, 3, 0, 0, 2, 6, 0, 5, 6, 0, 4, 6, 3, 1, 4, 3, 6, 3, 2, 6, 2, 2, 1, 6, 5, 6, 3, 6, 4, 3, 6, 4, 6, 0, 3, 0, 2, 0, 5, 4, 4, 6, 0, 6, 2, 6, 4, 2, 1, 4, 6, 6, 6, 6, 0, 1, 0, 4, 6, 6, 4, 0, 1, 6, 4, 6, 6, 6, 2, 4, 6, 3, 6, 4, 4, 1, 5, 4, 4, 2, 6, 6, 6, 6, 6, 6, 5, 0, 0, 3, 6, 6, 1, 3, 4, 3, 2, 6, 6, 6, 6, 4, 6, 0, 1, 0, 1, 6, 6, 0, 2, 1, 4, 3, 0, 6, 6, 4, 0, 0, 5, 3, 4, 6, 3, 6, 6, 6, 0, 1, 6, 6, 1, 3, 6, 6, 4, 0, 4, 3, 0, 6, 1, 0, 6, 2, 2, 4, 3, 3, 0, 6, 4, 3, 6, 2, 0, 1, 6, 6, 4, 0, 5, 6, 5, 6, 3, 4, 5, 1, 6, 0, 6, 1, 1, 3, 6, 4, 6, 1, 3, 2, 2, 2, 2, 6, 2, 6, 1, 5, 5, 5, 1, 1, 6, 1, 1, 4, 4, 2, 1, 5, 4, 6, 2, 0, 6, 6, 3, 3, 6, 6, 6, 4, 2, 5, 1, 6, 0, 4, 6, 3, 1, 6, 4, 6, 6, 2, 6, 3, 6, 3, 6, 6, 0, 0, 6, 1, 6, 6, 3, 0, 0, 1, 3, 4, 4, 1, 3, 6, 4, 3, 2, 0, 0, 6, 4, 3, 4, 6, 2, 1, 2, 6, 5, 1, 2, 6, 4, 6, 6, 0, 1, 3, 6, 6, 4, 1, 3, 5, 4, 6, 6, 6, 0, 3, 4, 6, 4, 0, 3, 0, 0, 6, 3, 6, 1, 5, 3, 3, 6, 5, 6, 3, 2, 3, 6, 2, 1, 0, 2, 2, 1, 6, 1, 6, 3, 1, 6, 4, 6, 3, 6, 6, 6, 4, 3, 4, 1, 2, 3, 3, 6, 6, 0, 4, 6, 6, 3, 4, 6, 6, 6, 3, 6, 4, 3, 2, 4, 0, 6, 3, 4, 0, 0, 6, 4, 4, 3, 6, 6, 3, 0, 0, 3, 1, 5, 6, 4, 0, 1, 0, 1, 4, 1, 4, 1, 6, 1, 5, 4, 1, 6, 6, 0, 5, 1, 2, 3, 4, 0, 1, 4, 0, 6, 2, 1, 2, 3, 0, 2, 1, 5, 6, 6, 3, 6, 3, 2, 2, 1, 6, 6, 4, 2, 2, 3, 3, 4, 5, 6, 3, 4, 0, 4, 6, 0, 3, 3, 3, 3, 0, 4, 2, 4, 4, 6, 6, 2, 1, 6, 0, 6, 1, 5, 2, 6, 6, 4, 0, 4, 0, 4, 6, 3, 4, 3]\n",
            "[2, 0, 3, 6, 3, 6, 4, 0, 6, 6, 0, 6, 0, 6, 6, 6, 6, 6, 4, 1, 6, 3, 4, 4, 4, 6, 0, 6, 6, 0, 2, 6, 3, 6, 3, 0, 0, 6, 3, 4, 3, 0, 0, 5, 3, 6, 6, 6, 0, 2, 1, 3, 0, 6, 4, 5, 2, 6, 4, 1, 6, 1, 4, 4, 4, 4, 4, 3, 6, 2, 2, 3, 4, 5, 0, 6, 6, 1, 4, 1, 3, 1, 6, 3, 1, 6, 6, 4, 1, 2, 2, 3, 4, 3, 1, 1, 6, 6, 1, 0, 6, 1, 6, 3, 6, 4, 3, 1, 2, 4, 4, 3, 5, 4, 6, 6, 6, 6, 6, 6, 3, 6, 0, 4, 4, 1, 2, 0, 4, 6, 5, 4, 5, 6, 1, 2, 4, 3, 6, 1, 3, 2, 4, 5, 6, 1, 1, 5, 6, 4, 3, 6, 6, 6, 6, 2, 3, 6, 0, 6, 6, 3, 1, 0, 5, 2, 4, 2, 1, 4, 4, 4, 6, 0, 6, 6, 6, 3, 3, 4, 2, 2, 6, 1, 2, 6, 6, 6, 6, 0, 4, 0, 4, 2, 6, 2, 3, 0, 6, 6, 6, 1, 2, 1, 4, 4, 3, 5, 4, 6, 6, 0, 4, 1, 0, 1, 3, 5, 0, 6, 6, 0, 0, 6, 3, 0, 0, 6, 5, 6, 0, 1, 6, 3, 4, 0, 6, 6, 1, 3, 2, 4, 3, 6, 6, 3, 4, 6, 4, 4, 0, 2, 6, 3, 6, 1, 4, 6, 6, 6, 6, 0, 0, 6, 6, 6, 6, 1, 4, 5, 3, 1, 1, 6, 4, 6, 6, 2, 3, 2, 6, 6, 3, 6, 2, 6, 6, 1, 1, 5, 4, 5, 3, 1, 3, 6, 2, 6, 4, 1, 6, 6, 6, 4, 4, 4, 3, 6, 4, 4, 3, 3, 6, 6, 2, 6, 4, 2, 1, 0, 4, 3, 6, 3, 5, 6, 6, 6, 6, 1, 1, 1, 6, 1, 4, 5, 3, 4, 1, 6, 0, 1, 4, 6, 5, 5, 3, 0, 6, 4, 0, 1, 0, 6, 3, 4, 4, 1, 0, 3, 6, 5, 4, 3, 4, 3, 3, 4, 6, 2, 4, 6, 4, 5, 6, 0, 4, 1, 0, 6, 6, 4, 4, 1, 4, 6, 6, 0, 4, 6, 6, 6, 6, 6, 6, 3, 3, 6, 4, 6, 2, 6, 6, 3, 3, 5, 6, 3, 0, 6, 6, 6, 4, 6, 6, 6, 0, 6, 6, 1, 3, 0, 0, 2, 6, 0, 5, 6, 0, 4, 6, 3, 1, 4, 0, 6, 3, 4, 6, 2, 2, 6, 6, 5, 6, 3, 6, 4, 3, 6, 4, 6, 0, 3, 0, 2, 0, 1, 4, 3, 6, 0, 6, 2, 6, 4, 2, 1, 4, 6, 6, 6, 6, 3, 1, 0, 6, 6, 6, 4, 0, 1, 6, 4, 6, 4, 6, 2, 4, 6, 3, 6, 1, 4, 1, 3, 6, 4, 6, 6, 6, 6, 6, 6, 6, 5, 0, 6, 3, 6, 6, 6, 3, 4, 3, 6, 6, 5, 6, 6, 4, 3, 0, 6, 0, 1, 6, 6, 0, 6, 1, 4, 3, 0, 6, 6, 4, 0, 0, 6, 3, 6, 6, 3, 6, 6, 6, 0, 4, 4, 6, 1, 3, 6, 6, 6, 0, 4, 3, 0, 6, 1, 0, 6, 2, 0, 4, 0, 3, 0, 6, 4, 3, 6, 2, 0, 1, 6, 6, 4, 3, 5, 6, 5, 6, 3, 4, 5, 1, 6, 2, 6, 1, 4, 3, 6, 4, 6, 1, 3, 2, 1, 2, 2, 6, 2, 6, 1, 5, 6, 5, 1, 1, 6, 1, 1, 4, 4, 4, 1, 5, 4, 6, 2, 0, 6, 6, 3, 5, 6, 6, 6, 4, 6, 6, 1, 4, 0, 3, 6, 6, 6, 6, 4, 6, 4, 2, 6, 3, 6, 0, 6, 6, 0, 0, 0, 6, 3, 6, 3, 0, 0, 3, 3, 4, 4, 3, 3, 6, 4, 3, 2, 0, 0, 6, 6, 6, 4, 6, 2, 6, 6, 6, 5, 1, 2, 6, 1, 6, 6, 6, 1, 3, 1, 6, 6, 6, 3, 5, 4, 6, 6, 6, 0, 3, 4, 6, 4, 6, 6, 0, 0, 6, 3, 6, 6, 4, 6, 3, 6, 5, 6, 6, 3, 3, 6, 2, 1, 0, 2, 6, 1, 6, 1, 6, 4, 4, 6, 4, 6, 3, 6, 3, 6, 4, 3, 6, 4, 4, 3, 0, 6, 6, 0, 2, 6, 6, 6, 4, 2, 6, 6, 3, 6, 6, 3, 2, 4, 0, 6, 3, 4, 0, 0, 6, 4, 4, 6, 6, 6, 3, 0, 1, 3, 1, 5, 6, 4, 0, 1, 0, 1, 4, 0, 4, 1, 6, 1, 5, 4, 6, 6, 6, 4, 6, 4, 2, 3, 4, 0, 1, 4, 0, 6, 2, 4, 3, 6, 0, 2, 1, 5, 6, 6, 6, 6, 3, 2, 6, 5, 6, 6, 4, 2, 2, 3, 3, 4, 6, 6, 3, 4, 0, 4, 6, 0, 0, 3, 3, 3, 0, 4, 2, 4, 4, 6, 6, 2, 1, 6, 0, 6, 1, 5, 2, 6, 6, 4, 0, 6, 0, 4, 6, 2, 4, 3]\n"
          ]
        }
      ]
    },
    {
      "cell_type": "code",
      "source": [
        "import matplotlib.pyplot as plt\n",
        "\n",
        "knn_accuracy , knn_precision , knn_recall , knn_f1 = get_metrics(val_labels, all_out)\n",
        "print(\"accuracy = %.3f \\nprecision = %.3f \\nrecall = %.3f \\nf1 = %.3f \\n\" % (knn_accuracy , knn_precision , knn_recall , knn_f1))\n",
        "\n",
        "model_matrix_ = confusion_matrix(val_labels, all_out, labels=[0, 1, 2, 3, 4, 5, 6])\n",
        "model_mat_plt_ = ConfusionMatrixDisplay(confusion_matrix=model_matrix_)\n",
        "model_mat_plt_.plot()\n",
        "plt.title('Confusion Matrix')"
      ],
      "metadata": {
        "colab": {
          "base_uri": "https://localhost:8080/",
          "height": 576
        },
        "id": "WYuzJ9CU2H-j",
        "outputId": "67a2f768-1ad2-4802-f714-5e4ac302ee13"
      },
      "execution_count": 58,
      "outputs": [
        {
          "output_type": "stream",
          "name": "stdout",
          "text": [
            "accuracy = 0.821 \n",
            "precision = 0.826 \n",
            "recall = 0.821 \n",
            "f1 = 0.819 \n",
            "\n"
          ]
        },
        {
          "output_type": "execute_result",
          "data": {
            "text/plain": [
              "Text(0.5, 1.0, 'Confusion Matrix')"
            ]
          },
          "metadata": {},
          "execution_count": 58
        },
        {
          "output_type": "display_data",
          "data": {
            "text/plain": [
              "<Figure size 640x480 with 2 Axes>"
            ],
            "image/png": "[encoded data removed]"
          },
          "metadata": {}
        }
      ]
    }
  ]
}